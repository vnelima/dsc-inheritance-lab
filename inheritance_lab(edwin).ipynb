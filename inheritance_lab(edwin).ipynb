{
 "cells": [
  {
   "cell_type": "markdown",
   "metadata": {},
   "source": [
    "# Inheritance - Lab\n",
    "\n",
    "## Introduction\n",
    "\n",
    "In this lab, you'll use what you've learned about inheritance to model a zoo using superclasses, subclasses, and maybe even an abstract superclass!\n",
    "\n",
    "## Objectives\n",
    "\n",
    "In this lab you will: \n",
    "\n",
    "- Create a domain model using OOP \n",
    "- Use inheritance to write nonredundant code \n",
    "\n",
    "## Modeling a Zoo\n",
    "\n",
    "Consider the following scenario:  You've been hired by a zookeeper to build a program that keeps track of all the animals in the zoo.  This is a great opportunity to make use of inheritance and object-oriented programming!\n",
    "\n",
    "## Creating an Abstract Superclass\n",
    "\n",
    "Start by creating an abstract superclass, `Animal()`.  When your program is complete, all subclasses of `Animal()` will have the following attributes:\n",
    "\n",
    "* `name`, which is a string set at instantation time\n",
    "* `size`, which can be `'small'`, `'medium'`, `'large'`, or `'enormous'` \n",
    "* `weight`, which is an integer set at instantiation time \n",
    "* `species`, a string that tells us the species of the animal\n",
    "* `food_type`, which can be `'herbivore'`, `'carnivore'`, or `'omnivore'`\n",
    "* `nocturnal`, a boolean value that is `True` if the animal sleeps during the day, otherwise `False`\n",
    "\n",
    "They'll also have the following behaviors:\n",
    "\n",
    "* `sleep`, which prints a string saying if the animal sleeps during day or night\n",
    "* `eat`, which takes in the string `'plants'` or `'meat'`, and returns `'{animal name} the {animal species} thinks {food} is yummy!'` or `'I don't eat this!'` based on the animal's `food_type` attribute \n",
    "\n",
    "In the cell below, create an abstract superclass that meets these specifications.\n",
    "\n",
    "**_NOTE:_** For some attributes in an abstract superclass such as `size`, the initial value doesn't matter -- just make sure that you remember to override it in each of the subclasses!"
   ]
  },
  {
   "cell_type": "code",
   "execution_count": 55,
   "metadata": {},
   "outputs": [],
   "source": [
    "class Animal(object):\n",
    "    def __init__(self, name, weight, species, food_type, nocturnal):\n",
    "        self.name = name\n",
    "        self.weight = weight\n",
    "        self.species = species\n",
    "        self.food_type = food_type\n",
    "        self.nocturnal = nocturnal\n",
    "        self.size = None  # This will be overridden by subclasses\n",
    "\n",
    "    def sleep(self):\n",
    "        if self.nocturnal:\n",
    "            print(f\"{self.name} the {self.species} sleeps during the day.\")\n",
    "        else:\n",
    "            print(f\"{self.name} the {self.species} sleeps during the night.\")\n",
    "\n",
    "    def eat(self, food):\n",
    "        if (self.food_type == 'herbivore' and food == 'plants') or \\\n",
    "           (self.food_type == 'carnivore' and food == 'meat') or \\\n",
    "           (self.food_type == 'omnivore'):\n",
    "            return f\"{self.name} the {self.species} thinks {food} is yummy!\"\n",
    "        else:\n",
    "            return \"I don't eat this!\"\n",
    "\n",
    "    def set_size(self):\n",
    "        raise NotImplementedError(\"Subclasses must implement the set_size method.\")\n"
   ]
  },
  {
   "cell_type": "markdown",
   "metadata": {},
   "source": [
    "Great! Now that you have our abstract superclass, you can begin building out the specific animal classes.\n",
    "\n",
    "In the cell below, complete the `Elephant()` class.  This class should:\n",
    "\n",
    "* subclass `Animal` \n",
    "* have a species of `'elephant'` \n",
    "* have a size of `'enormous'` \n",
    "* have a food type of `'herbivore'` \n",
    "* set nocturnal to `False` \n",
    "\n",
    "**_Hint:_** Remember to make use of `.super()` during initialization, and be sure to pass in the values it expects at instantiation time!"
   ]
  },
  {
   "cell_type": "code",
   "execution_count": 56,
   "metadata": {},
   "outputs": [],
   "source": [
    "class Elephant(Animal):\n",
    "    def __init__(self, name, weight):\n",
    "        # Initialize the superclass with fixed attributes and provided values\n",
    "        super().__init__(name=name, weight=weight, species='elephant', food_type='herbivore', nocturnal=False)\n",
    "        self.size = 'enormous'  # Set the specific size for elephants\n",
    "\n",
    "\n"
   ]
  },
  {
   "cell_type": "markdown",
   "metadata": {},
   "source": [
    "Great! Now, in the cell below, create a `Tiger()` class.  This class should: \n",
    "\n",
    "* subclass `Animal` \n",
    "* have a species of `'tiger'` \n",
    "* have a size of `'large'` \n",
    "* have a food type of `'carnivore'` \n",
    "* set nocturnal to `True` "
   ]
  },
  {
   "cell_type": "code",
   "execution_count": 57,
   "metadata": {},
   "outputs": [],
   "source": [
    "class Tiger(Animal):\n",
    "    def __init__(self, name, weight):\n",
    "        # Initialize the superclass with fixed attributes and provided values\n",
    "        super().__init__(name=name, weight=weight, species='tiger', food_type='carnivore', nocturnal=True)\n",
    "        self.size = 'large'  # Set the specific size for tigers\n",
    "\n",
    "    def set_size(self):\n",
    "        # This method is already fulfilled by setting self.size in __init__, but is kept for compliance\n",
    "        self.size = \"large\"\n"
   ]
  },
  {
   "cell_type": "markdown",
   "metadata": {},
   "source": [
    "Great! Two more classes to go. In the cell below, create a `Raccoon()` class. This class should:\n",
    "\n",
    "* subclass `Animal` \n",
    "* have a species of `raccoon` \n",
    "* have a size of `'small'` \n",
    "* have a food type of `'omnivore'` \n",
    "* set nocturnal to `True` "
   ]
  },
  {
   "cell_type": "code",
   "execution_count": 58,
   "metadata": {},
   "outputs": [],
   "source": [
    "class Raccoon(Animal):\n",
    "    \n",
    "    def __init__(self, name, weight):\n",
    "        super().__init__(name, weight)\n",
    "        self.species = 'raccoon'\n",
    "        self.size ='small'\n",
    "        self.diet = 'omnivore'\n",
    "        self.nocturnal = True"
   ]
  },
  {
   "cell_type": "markdown",
   "metadata": {},
   "source": [
    "Finally, create a `Gorilla()` class. This class should:\n",
    "\n",
    "* subclass `Animal` \n",
    "* have a species of `gorilla` \n",
    "* have a size of `'large'` \n",
    "* have a food type of `'herbivore'` \n",
    "* set nocturnal to `False` "
   ]
  },
  {
   "cell_type": "code",
   "execution_count": 59,
   "metadata": {},
   "outputs": [],
   "source": [
    "class Gorilla(Animal):\n",
    "    \n",
    "    def __init__(self, name, weight):\n",
    "        super().__init__(name, weight)\n",
    "        self.species = 'gorilla'\n",
    "        self.size = 'large'\n",
    "        self.diet = 'herbivore'\n",
    "        self.nocturnal = False"
   ]
  },
  {
   "cell_type": "markdown",
   "metadata": {},
   "source": [
    "## Using Our Objects\n",
    "\n",
    "Now it's time to populate the zoo! To ease the creation of animal instances, create a function `add_animal_to_zoo()`.\n",
    "\n",
    "This function should take in the following parameters:\n",
    "\n",
    "* `zoo`, an array representing the current state of the zoo \n",
    "* `animal_type`, a string.  Can be `'Gorilla'`, `'Raccoon'`, `'Tiger'`, or `'Elephant'` \n",
    "* `name`, the name of the animal being created \n",
    "* `weight`, the weight of the animal being created \n",
    "\n",
    "The function should then:\n",
    "\n",
    "* use `animal_type` to determine which object to create\n",
    "* Create an instance of that animal, passing in the `name` and `weight`\n",
    "* Append the newly created animal to `zoo`\n",
    "* Return `zoo`"
   ]
  },
  {
   "cell_type": "code",
   "execution_count": 60,
   "metadata": {},
   "outputs": [],
   "source": [
    "def add_animal_to_zoo(zoo, animal_type, name, weight):\n",
    "    # Dictionary to map animal types to their respective classes\n",
    "    animal_classes = {\n",
    "        'Gorilla': Gorilla,\n",
    "        'Raccoon': Raccoon,\n",
    "        'Tiger': Tiger,\n",
    "        'Elephant': Elephant\n",
    "    }\n",
    "    \n",
    "    # Check if the animal_type is valid\n",
    "    if animal_type not in animal_classes:\n",
    "        raise ValueError(f\"Invalid animal type: {animal_type}. Must be one of {list(animal_classes.keys())}\")\n",
    "    \n",
    "    # Create an instance of the specified animal type\n",
    "    animal_class = animal_classes[animal_type]\n",
    "    new_animal = animal_class(name=name, weight=weight)\n",
    "    \n",
    "    # Add the new animal to the zoo\n",
    "    zoo.append(new_animal)\n",
    "    \n",
    "    return zoo\n"
   ]
  },
  {
   "cell_type": "markdown",
   "metadata": {},
   "source": [
    "Great! Now, add some animals to your zoo. \n",
    "\n",
    "Create the following animals and add them to your zoo.  The names and weights are up to you.\n",
    "\n",
    "* 2 Elephants\n",
    "* 2 Raccons\n",
    "* 1 Gorilla\n",
    "* 3 Tigers"
   ]
  },
  {
   "cell_type": "code",
   "execution_count": 61,
   "metadata": {},
   "outputs": [
    {
     "ename": "TypeError",
     "evalue": "Animal.__init__() missing 3 required positional arguments: 'species', 'food_type', and 'nocturnal'",
     "output_type": "error",
     "traceback": [
      "\u001b[1;31m---------------------------------------------------------------------------\u001b[0m",
      "\u001b[1;31mTypeError\u001b[0m                                 Traceback (most recent call last)",
      "Cell \u001b[1;32mIn[61], line 5\u001b[0m\n\u001b[0;32m      3\u001b[0m zoo \u001b[38;5;241m=\u001b[39m add_animal_to_zoo(zoo, \u001b[38;5;124m'\u001b[39m\u001b[38;5;124mElephant\u001b[39m\u001b[38;5;124m'\u001b[39m, \u001b[38;5;124m'\u001b[39m\u001b[38;5;124mDumbo\u001b[39m\u001b[38;5;124m'\u001b[39m, \u001b[38;5;241m1200\u001b[39m)\n\u001b[0;32m      4\u001b[0m zoo \u001b[38;5;241m=\u001b[39m add_animal_to_zoo(zoo, \u001b[38;5;124m'\u001b[39m\u001b[38;5;124mElephant\u001b[39m\u001b[38;5;124m'\u001b[39m, \u001b[38;5;124m'\u001b[39m\u001b[38;5;124mAlbert\u001b[39m\u001b[38;5;124m'\u001b[39m, \u001b[38;5;241m1300\u001b[39m)\n\u001b[1;32m----> 5\u001b[0m zoo \u001b[38;5;241m=\u001b[39m add_animal_to_zoo(zoo, \u001b[38;5;124m'\u001b[39m\u001b[38;5;124mRaccoon\u001b[39m\u001b[38;5;124m'\u001b[39m, \u001b[38;5;124m'\u001b[39m\u001b[38;5;124mRocker\u001b[39m\u001b[38;5;124m'\u001b[39m, \u001b[38;5;241m120\u001b[39m)\n\u001b[0;32m      6\u001b[0m z00 \u001b[38;5;241m=\u001b[39m add_animal_to_zoo(zoo, \u001b[38;5;124m'\u001b[39m\u001b[38;5;124mRacoon\u001b[39m\u001b[38;5;124m'\u001b[39m, \u001b[38;5;124m'\u001b[39m\u001b[38;5;124mrocket\u001b[39m\u001b[38;5;124m'\u001b[39m, \u001b[38;5;241m100\u001b[39m)\n\u001b[0;32m      7\u001b[0m zoo \u001b[38;5;241m=\u001b[39m add_animal_to_zoo(zoo, \u001b[38;5;124m'\u001b[39m\u001b[38;5;124mGorilla\u001b[39m\u001b[38;5;124m'\u001b[39m, \u001b[38;5;124m'\u001b[39m\u001b[38;5;124mKing Kong\u001b[39m\u001b[38;5;124m'\u001b[39m, \u001b[38;5;241m500\u001b[39m)\n",
      "Cell \u001b[1;32mIn[60], line 16\u001b[0m, in \u001b[0;36madd_animal_to_zoo\u001b[1;34m(zoo, animal_type, name, weight)\u001b[0m\n\u001b[0;32m     14\u001b[0m \u001b[38;5;66;03m# Create an instance of the specified animal type\u001b[39;00m\n\u001b[0;32m     15\u001b[0m animal_class \u001b[38;5;241m=\u001b[39m animal_classes[animal_type]\n\u001b[1;32m---> 16\u001b[0m new_animal \u001b[38;5;241m=\u001b[39m animal_class(name\u001b[38;5;241m=\u001b[39mname, weight\u001b[38;5;241m=\u001b[39mweight)\n\u001b[0;32m     18\u001b[0m \u001b[38;5;66;03m# Add the new animal to the zoo\u001b[39;00m\n\u001b[0;32m     19\u001b[0m zoo\u001b[38;5;241m.\u001b[39mappend(new_animal)\n",
      "Cell \u001b[1;32mIn[58], line 4\u001b[0m, in \u001b[0;36mRaccoon.__init__\u001b[1;34m(self, name, weight)\u001b[0m\n\u001b[0;32m      3\u001b[0m \u001b[38;5;28;01mdef\u001b[39;00m \u001b[38;5;21m__init__\u001b[39m(\u001b[38;5;28mself\u001b[39m, name, weight):\n\u001b[1;32m----> 4\u001b[0m     \u001b[38;5;28msuper\u001b[39m()\u001b[38;5;241m.\u001b[39m\u001b[38;5;21m__init__\u001b[39m(name, weight)\n\u001b[0;32m      5\u001b[0m     \u001b[38;5;28mself\u001b[39m\u001b[38;5;241m.\u001b[39mspecies \u001b[38;5;241m=\u001b[39m \u001b[38;5;124m'\u001b[39m\u001b[38;5;124mraccoon\u001b[39m\u001b[38;5;124m'\u001b[39m\n\u001b[0;32m      6\u001b[0m     \u001b[38;5;28mself\u001b[39m\u001b[38;5;241m.\u001b[39msize \u001b[38;5;241m=\u001b[39m\u001b[38;5;124m'\u001b[39m\u001b[38;5;124msmall\u001b[39m\u001b[38;5;124m'\u001b[39m\n",
      "\u001b[1;31mTypeError\u001b[0m: Animal.__init__() missing 3 required positional arguments: 'species', 'food_type', and 'nocturnal'"
     ]
    }
   ],
   "source": [
    "# Create your animals and add them to the 'zoo' in this cell!\n",
    "zoo = []\n",
    "zoo = add_animal_to_zoo(zoo, 'Elephant', 'Dumbo', 1200)\n",
    "zoo = add_animal_to_zoo(zoo, 'Elephant', 'Albert', 1300)\n",
    "zoo = add_animal_to_zoo(zoo, 'Raccoon', 'Rocker', 120)\n",
    "z00 = add_animal_to_zoo(zoo, 'Racoon', 'rocket', 100)\n",
    "zoo = add_animal_to_zoo(zoo, 'Gorilla', 'King Kong', 500)\n",
    "zoo = add_animal_to_zoo(zoo, 'Tiger', 'Shere Khan', 200)\n",
    "zoo = add_animal_to_zoo(zoo, 'Tiger', 'Big Meow', 400)\n",
    "\n",
    "# Displaying the animals in the zoo\n",
    "for animal in zoo:\n",
    "    print(f\"{animal.name} the {animal.species}, Size: {animal.size}, Weight: {animal.weight}\")\n"
   ]
  },
  {
   "cell_type": "code",
   "execution_count": null,
   "metadata": {},
   "outputs": [
    {
     "ename": "TypeError",
     "evalue": "Animal.__init__() missing 3 required positional arguments: 'species', 'food_type', and 'nocturnal'",
     "output_type": "error",
     "traceback": [
      "\u001b[1;31m---------------------------------------------------------------------------\u001b[0m",
      "\u001b[1;31mTypeError\u001b[0m                                 Traceback (most recent call last)",
      "Cell \u001b[1;32mIn[26], line 6\u001b[0m\n\u001b[0;32m      3\u001b[0m zoo \u001b[38;5;241m=\u001b[39m []\n\u001b[0;32m      5\u001b[0m \u001b[38;5;28;01mfor\u001b[39;00m i \u001b[38;5;129;01min\u001b[39;00m to_create:\n\u001b[1;32m----> 6\u001b[0m     zoo \u001b[38;5;241m=\u001b[39m add_animal_to_zoo(zoo, i, \u001b[38;5;124m'\u001b[39m\u001b[38;5;124mname\u001b[39m\u001b[38;5;124m'\u001b[39m, \u001b[38;5;241m100\u001b[39m)\n\u001b[0;32m      8\u001b[0m zoo\n",
      "Cell \u001b[1;32mIn[24], line 16\u001b[0m, in \u001b[0;36madd_animal_to_zoo\u001b[1;34m(zoo, animal_type, name, weight)\u001b[0m\n\u001b[0;32m     14\u001b[0m \u001b[38;5;66;03m# Create an instance of the specified animal type\u001b[39;00m\n\u001b[0;32m     15\u001b[0m animal_class \u001b[38;5;241m=\u001b[39m animal_classes[animal_type]\n\u001b[1;32m---> 16\u001b[0m new_animal \u001b[38;5;241m=\u001b[39m animal_class(name\u001b[38;5;241m=\u001b[39mname, weight\u001b[38;5;241m=\u001b[39mweight)\n\u001b[0;32m     18\u001b[0m \u001b[38;5;66;03m# Add the new animal to the zoo\u001b[39;00m\n\u001b[0;32m     19\u001b[0m zoo\u001b[38;5;241m.\u001b[39mappend(new_animal)\n",
      "Cell \u001b[1;32mIn[22], line 4\u001b[0m, in \u001b[0;36mRaccoon.__init__\u001b[1;34m(self, name, weight)\u001b[0m\n\u001b[0;32m      3\u001b[0m \u001b[38;5;28;01mdef\u001b[39;00m \u001b[38;5;21m__init__\u001b[39m(\u001b[38;5;28mself\u001b[39m, name, weight):\n\u001b[1;32m----> 4\u001b[0m     \u001b[38;5;28msuper\u001b[39m()\u001b[38;5;241m.\u001b[39m\u001b[38;5;21m__init__\u001b[39m(name, weight)\n\u001b[0;32m      5\u001b[0m     \u001b[38;5;28mself\u001b[39m\u001b[38;5;241m.\u001b[39mspecies \u001b[38;5;241m=\u001b[39m \u001b[38;5;124m'\u001b[39m\u001b[38;5;124mraccoon\u001b[39m\u001b[38;5;124m'\u001b[39m\n\u001b[0;32m      6\u001b[0m     \u001b[38;5;28mself\u001b[39m\u001b[38;5;241m.\u001b[39msize \u001b[38;5;241m=\u001b[39m\u001b[38;5;124m'\u001b[39m\u001b[38;5;124msmall\u001b[39m\u001b[38;5;124m'\u001b[39m\n",
      "\u001b[1;31mTypeError\u001b[0m: Animal.__init__() missing 3 required positional arguments: 'species', 'food_type', and 'nocturnal'"
     ]
    }
   ],
   "source": [
    "to_create = ['Elephant', 'Elephant', 'Raccoon', 'Raccoon', 'Gorilla', 'Tiger', 'Tiger', 'Tiger']\n",
    "\n",
    "zoo = []\n",
    "\n",
    "for i in to_create:\n",
    "    zoo = add_animal_to_zoo(zoo, i, 'name', 100)\n",
    "    \n",
    "zoo"
   ]
  },
  {
   "cell_type": "code",
   "execution_count": 62,
   "metadata": {},
   "outputs": [],
   "source": [
    "class Animal:\n",
    "    def __init__(self, name, weight, species, food_type, nocturnal):\n",
    "        self.name = name\n",
    "        self.weight = weight\n",
    "        self.species = species\n",
    "        self.food_type = food_type\n",
    "        self.nocturnal = nocturnal\n",
    "        self.size = None  # Default value to be overridden by subclasses\n",
    "\n",
    "    def sleep(self):\n",
    "        if self.nocturnal:\n",
    "            print(f\"{self.name} the {self.species} sleeps during the day.\")\n",
    "        else:\n",
    "            print(f\"{self.name} the {self.species} sleeps at night.\")\n",
    "\n",
    "    def eat(self, food):\n",
    "        if (food == 'plants' and self.food_type in ['herbivore', 'omnivore']) or \\\n",
    "            (food == 'meat' and self.food_type in ['carnivore', 'omnivore']):\n",
    "            return f\"{self.name} the {self.species} thinks {food} is yummy!\"\n",
    "        else:\n",
    "            return \"I don't eat this!\"\n"
   ]
  },
  {
   "cell_type": "code",
   "execution_count": 64,
   "metadata": {},
   "outputs": [],
   "source": [
    "class Elephant(Animal):\n",
    "    def __init__(self, name, weight):\n",
    "        super().__init__(name=name, weight=weight, species='elephant', food_type='herbivore', nocturnal=False)\n",
    "        self.size = 'enormous'\n",
    "\n",
    "\n",
    "class Tiger(Animal):\n",
    "    def __init__(self, name, weight):\n",
    "        super().__init__(name=name, weight=weight, species='tiger', food_type='carnivore', nocturnal=True)\n",
    "        self.size = 'large'\n",
    "\n",
    "\n",
    "class Raccoon(Animal):\n",
    "    def __init__(self, name, weight):\n",
    "        super().__init__(name=name, weight=weight, species='raccoon', food_type='omnivore', nocturnal=True)\n",
    "        self.size = 'small'\n",
    "\n",
    "\n",
    "class Gorilla(Animal):\n",
    "    def __init__(self, name, weight):\n",
    "        super().__init__(name=name, weight=weight, species='gorilla', food_type='herbivore', nocturnal=False)\n",
    "        self.size = 'large'\n"
   ]
  },
  {
   "cell_type": "code",
   "execution_count": 65,
   "metadata": {},
   "outputs": [
    {
     "name": "stdout",
     "output_type": "stream",
     "text": [
      "Name: Ellie, Species: elephant, Food Type: herbivore, Nocturnal: False, Size: enormous, Weight: 5400\n",
      "Name: Dumbo, Species: elephant, Food Type: herbivore, Nocturnal: False, Size: enormous, Weight: 5000\n",
      "Name: Bandit, Species: raccoon, Food Type: omnivore, Nocturnal: True, Size: small, Weight: 15\n",
      "Name: Rocky, Species: raccoon, Food Type: omnivore, Nocturnal: True, Size: small, Weight: 18\n",
      "Name: Koko, Species: gorilla, Food Type: herbivore, Nocturnal: False, Size: large, Weight: 450\n",
      "Name: Shere Khan, Species: tiger, Food Type: carnivore, Nocturnal: True, Size: large, Weight: 200\n",
      "Name: Rajah, Species: tiger, Food Type: carnivore, Nocturnal: True, Size: large, Weight: 210\n",
      "Name: Tigress, Species: tiger, Food Type: carnivore, Nocturnal: True, Size: large, Weight: 190\n"
     ]
    }
   ],
   "source": [
    "# Initialize an empty zoo\n",
    "zoo = []\n",
    "\n",
    "# Add animals to the zoo\n",
    "zoo = add_animal_to_zoo(zoo, 'Elephant', 'Ellie', 5400)\n",
    "zoo = add_animal_to_zoo(zoo, 'Elephant', 'Dumbo', 5000)\n",
    "zoo = add_animal_to_zoo(zoo, 'Raccoon', 'Bandit', 15)\n",
    "zoo = add_animal_to_zoo(zoo, 'Raccoon', 'Rocky', 18)\n",
    "zoo = add_animal_to_zoo(zoo, 'Gorilla', 'Koko', 450)\n",
    "zoo = add_animal_to_zoo(zoo, 'Tiger', 'Shere Khan', 200)\n",
    "zoo = add_animal_to_zoo(zoo, 'Tiger', 'Rajah', 210)\n",
    "zoo = add_animal_to_zoo(zoo, 'Tiger', 'Tigress', 190)\n",
    "\n",
    "# Display the animals in the zoo \n",
    "for animal in zoo:\n",
    "    print(f\"Name: {animal.name}, Species: {animal.species}, Food Type: {animal.food_type}, \"\n",
    "            f\"Nocturnal: {animal.nocturnal}, Size: {animal.size}, Weight: {animal.weight}\")\n"
   ]
  },
  {
   "cell_type": "markdown",
   "metadata": {},
   "source": [
    "Great! Now that you have a populated zoo, you can do what the zookeeper hired you to do -- write a program that feeds the correct animals the right food at the right times!\n",
    "\n",
    "To do this, write a function called `feed_animals()`. This function should take in two arguments:\n",
    "\n",
    "* `zoo`, the zoo array containing all the animals\n",
    "* `time`, which can be `'Day'` or `'Night'`.  This should default to day if nothing is entered for `time` \n",
    "\n",
    "This function should:\n",
    "\n",
    "* Feed only the non-nocturnal animals if `time='Day'`, or only the nocturnal animals if `time='Night'`\n",
    "* Check the food type of each animal before feeding.  If the animal is a carnivore, feed it `'meat'`; otherwise, feed it `'plants'`. Feed the animals by using their `.eat()` method "
   ]
  },
  {
   "cell_type": "code",
   "execution_count": 67,
   "metadata": {},
   "outputs": [],
   "source": [
    "def feed_animals(zoo, time='Day'):\n",
    "    # Determine which animals to feed based on the time of day\n",
    "    is_nocturnal = True if time == 'Night' else False\n",
    "    \n",
    "    # Iterate through the zoo and feed the appropriate animals\n",
    "    for animal in zoo:\n",
    "        if animal.nocturnal == is_nocturnal:  # Check if the animal is active at the given time\n",
    "            food = 'meat' if animal.food_type == 'carnivore' else 'plants'\n",
    "            print(animal.eat(food))\n"
   ]
  },
  {
   "cell_type": "markdown",
   "metadata": {},
   "source": [
    "Now, test out your program.  Call the function for a daytime feeding below."
   ]
  },
  {
   "cell_type": "code",
   "execution_count": 68,
   "metadata": {},
   "outputs": [
    {
     "name": "stdout",
     "output_type": "stream",
     "text": [
      "Feeding animals during the day:\n",
      "Ellie the elephant thinks plants is yummy!\n",
      "Dumbo the elephant thinks plants is yummy!\n",
      "Koko the gorilla thinks plants is yummy!\n"
     ]
    }
   ],
   "source": [
    "# Call the function to feed animals during the day\n",
    "print(\"Feeding animals during the day:\")\n",
    "feed_animals(zoo, time='Day')\n"
   ]
  },
  {
   "cell_type": "markdown",
   "metadata": {},
   "source": [
    "If the elephants and gorrillas were fed then things should be good!\n",
    "\n",
    "In the cell below, call `feed_animals()` again, but this time set `time='Night'`"
   ]
  },
  {
   "cell_type": "code",
   "execution_count": 69,
   "metadata": {},
   "outputs": [
    {
     "name": "stdout",
     "output_type": "stream",
     "text": [
      "\n",
      "Feeding animals at night:\n",
      "Bandit the raccoon thinks plants is yummy!\n",
      "Rocky the raccoon thinks plants is yummy!\n",
      "Shere Khan the tiger thinks meat is yummy!\n",
      "Rajah the tiger thinks meat is yummy!\n",
      "Tigress the tiger thinks meat is yummy!\n"
     ]
    }
   ],
   "source": [
    "# Call the function to feed animals at night\n",
    "print(\"\\nFeeding animals at night:\")\n",
    "feed_animals(zoo, time='Night')"
   ]
  },
  {
   "cell_type": "markdown",
   "metadata": {},
   "source": [
    "That's it! You've used OOP and inheritance to build a working program to help the zookeeper feed his animals with right food at the correct times!\n",
    "\n",
    "## Summary\n",
    "\n",
    "In this lab, you modeled a zoo and learned how to use inheritance to write nonredundant code, used subclasses and superclasses, and create a domain model using OOP."
   ]
  }
 ],
 "metadata": {
  "kernelspec": {
   "display_name": "base",
   "language": "python",
   "name": "python3"
  },
  "language_info": {
   "codemirror_mode": {
    "name": "ipython",
    "version": 3
   },
   "file_extension": ".py",
   "mimetype": "text/x-python",
   "name": "python",
   "nbconvert_exporter": "python",
   "pygments_lexer": "ipython3",
   "version": "3.11.7"
  }
 },
 "nbformat": 4,
 "nbformat_minor": 2
}
